{
 "cells": [
  {
   "cell_type": "markdown",
   "metadata": {},
   "source": [
    "# Python lambda (Anonymous Functions) | filter, map, reduce"
   ]
  },
  {
   "cell_type": "markdown",
   "metadata": {},
   "source": [
    "#>This function can have any number of arguments but only one expression, which is evaluated and returned.\n",
    "#>One is free to use lambda functions wherever function objects are required.\n",
    "#>You need to keep in your knowledge that lambda functions are syntactically restricted to a single expression.\n",
    "#>It has various uses in particular fields of programming besides other types of expressions in functions."
   ]
  },
  {
   "cell_type": "raw",
   "metadata": {},
   "source": [
    "\n",
    "difference between a normal def defined function and lambda function.\n",
    "A lambda expression is a special syntax to create functions without names. These functions are called lambda functions.\n",
    "lambda (arguments) : (expression)"
   ]
  },
  {
   "cell_type": "code",
   "execution_count": 3,
   "metadata": {},
   "outputs": [
    {
     "data": {
      "text/plain": [
       "27"
      ]
     },
     "execution_count": 3,
     "metadata": {},
     "output_type": "execute_result"
    }
   ],
   "source": [
    "def cube(x):\n",
    "    return (x*x*x)\n",
    "cube(3)"
   ]
  },
  {
   "cell_type": "code",
   "execution_count": 8,
   "metadata": {},
   "outputs": [
    {
     "name": "stdout",
     "output_type": "stream",
     "text": [
      "27\n"
     ]
    }
   ],
   "source": [
    "d=lambda x : x*x*x\n",
    "print(d(3))\n"
   ]
  },
  {
   "cell_type": "code",
   "execution_count": 50,
   "metadata": {},
   "outputs": [
    {
     "name": "stdout",
     "output_type": "stream",
     "text": [
      "[3, 5, 7, 9, 11, 13, 15, 17]\n"
     ]
    }
   ],
   "source": [
    "#Use of lambda() with filter()\n",
    "#O/P will be list/set/tuple  of filter function\n",
    "#Lambda expression will be always single not multiple \n",
    "\n",
    "\n",
    "s=(2,3,4,5,6,7,8,9,10,11,12,13,14,15,16,17)\n",
    "l=list(filter(lambda x: (x%2 != 0) , s)) \n",
    "print(l)"
   ]
  },
  {
   "cell_type": "code",
   "execution_count": 53,
   "metadata": {},
   "outputs": [
    {
     "name": "stdout",
     "output_type": "stream",
     "text": [
      "[2, 4, 6, 8, 10, 12, 14, 16, 18]\n"
     ]
    }
   ],
   "source": [
    "#Use of lambda() with map()\n",
    "#map will map the lambda function to passed argumnet \n",
    "s=[1,2,3,4,5,6,7,8,9]\n",
    "l=list(map(lambda x:(x*2),s))\n",
    "print(l)\n"
   ]
  },
  {
   "cell_type": "code",
   "execution_count": 2,
   "metadata": {},
   "outputs": [
    {
     "name": "stdout",
     "output_type": "stream",
     "text": [
      "28\n"
     ]
    }
   ],
   "source": [
    "#Use of lambda() with reduce()\n",
    "# Python code to illustrate  \n",
    "# reduce() with lambda() \n",
    "# to get sum of a list \n",
    "#This performs a repetitive operation over the pairs of the list.\n",
    "from functools import reduce\n",
    "li = [1,2,3,4, 1, 2, 5, 10] \n",
    "sum = reduce((lambda x, y: x + y), li) \n",
    "print (sum) \n"
   ]
  },
  {
   "cell_type": "code",
   "execution_count": 17,
   "metadata": {},
   "outputs": [
    {
     "name": "stdout",
     "output_type": "stream",
     "text": [
      "[65, 39, 221]\n"
     ]
    }
   ],
   "source": [
    "#Given a list of numbers, find all numbers divisible by 13.\n",
    "\n",
    "my_list = [12, 65, 54, 39, 102, 339, 221, 50, 70]\n",
    "#Output : [65, 39, 221]\n",
    "\n",
    "\n",
    "d=list(filter(lambda x:(x%13==0),my_list))\n",
    "print(d)"
   ]
  },
  {
   "cell_type": "code",
   "execution_count": 25,
   "metadata": {},
   "outputs": [],
   "source": [
    "#Intersection of two arrays in Python ( Lambda expression and filter function )\n",
    "#Input:  arr1[] = [1, 3, 4, 5, 7]\n",
    "        #arr2[] = [2, 3, 5, 6]\n",
    "#Output: Intersection : [3, 5]\n",
    "arr1 = [1, 3, 4, 5, 7]\n",
    "arr2 = [2, 3, 5, 6]"
   ]
  },
  {
   "cell_type": "code",
   "execution_count": 26,
   "metadata": {
    "scrolled": true
   },
   "outputs": [
    {
     "name": "stdout",
     "output_type": "stream",
     "text": [
      "Intersection :  [3, 5]\n"
     ]
    }
   ],
   "source": [
    "def intersection(arr1,arr2):\n",
    "    result = list(filter(lambda x: x in arr1, arr2)) \n",
    "    print (\"Intersection : \",result) \n",
    "\n",
    "intersection(arr1,arr2)"
   ]
  },
  {
   "cell_type": "code",
   "execution_count": 40,
   "metadata": {},
   "outputs": [
    {
     "name": "stdout",
     "output_type": "stream",
     "text": [
      "9\n",
      "2\n"
     ]
    }
   ],
   "source": [
    "# Python program showing a use \n",
    "# lambda function \n",
    "  \n",
    "# performing a addition of three number\n",
    "x1 = (lambda x, y, z: (x + y) * z)(1, 2, 3) \n",
    "print(x1)\n",
    "\n",
    "s1=(lambda x,y,z : (x+y) if (z==0) else (x*y))(1,2,3)\n",
    "print(s1)"
   ]
  },
  {
   "cell_type": "code",
   "execution_count": 54,
   "metadata": {},
   "outputs": [
    {
     "name": "stdout",
     "output_type": "stream",
     "text": [
      "[2, 4, 6, 8, 11]\n"
     ]
    }
   ],
   "source": [
    "s=[2,4,6,8,11]\n",
    "p=list(filter(lambda x:x/2,s))\n",
    "print(p)"
   ]
  },
  {
   "cell_type": "code",
   "execution_count": 72,
   "metadata": {
    "scrolled": true
   },
   "outputs": [
    {
     "data": {
      "text/plain": [
       "10"
      ]
     },
     "execution_count": 72,
     "metadata": {},
     "output_type": "execute_result"
    }
   ],
   "source": [
    "#Lambda function assign to one variable\n",
    "sum=lambda x,y:x+y\n",
    "sum(10,0)"
   ]
  },
  {
   "cell_type": "code",
   "execution_count": 77,
   "metadata": {},
   "outputs": [
    {
     "name": "stdout",
     "output_type": "stream",
     "text": [
      "[1, 2, 3, 4, 5, 6, 7, 8, 10]\n"
     ]
    }
   ],
   "source": [
    "num=[1,2,3,4,5,6,7,8,10]\n",
    "def key_cal(x):\n",
    "    return x/2\n",
    "sort_num=sorted(num,key=key_cal)\n",
    "print(list(sort_num))"
   ]
  },
  {
   "cell_type": "code",
   "execution_count": 105,
   "metadata": {},
   "outputs": [
    {
     "name": "stdout",
     "output_type": "stream",
     "text": [
      "[64000, 27000, 8000, 729, 512, 343, 216, 125, 64, 27, 8, 1, 0]\n"
     ]
    }
   ],
   "source": [
    "# Python program showing a use \n",
    "# of lambda function \n",
    "#Square of each number by using lambda and map\n",
    "#Filter will help us to find out the apply filter of the passed arguments\n",
    "#Map will apply on the passed argument and operation will be applied on argument and return as list\n",
    "  \n",
    "nums = [1, 2, 3, 4, 5, 6, 7, 8, 9, 0,20,30,40] \n",
    "square=sorted(map(lambda x : x *x *x,nums),reverse=True)\n",
    "print(list(square))"
   ]
  },
  {
   "cell_type": "code",
   "execution_count": 107,
   "metadata": {},
   "outputs": [
    {
     "name": "stdout",
     "output_type": "stream",
     "text": [
      "[40, 30, 20, 9, 8, 7, 6, 5, 4, 3, 2, 1]\n"
     ]
    }
   ],
   "source": [
    "#filter  will check the eligibility return the filtered passed argument\n",
    "nums = [1, 2, 3, 4, 5, 6, 7, 8, 9, 0,20,30,40] \n",
    "square=sorted(filter(lambda x : x *x *x,nums),reverse=True)\n",
    "print(list(square))"
   ]
  },
  {
   "cell_type": "code",
   "execution_count": null,
   "metadata": {},
   "outputs": [],
   "source": [
    "#difference between map and lambda\n",
    "nums = [0, 1, 2, 3, 4, 5] \n",
    "mapped = map(lambda x: x * x, nums) \n",
    "filtered = filter(lambda x: x % 2, nums) \n",
    "print(list(mapped)) \n",
    "print(list(filtered))"
   ]
  },
  {
   "cell_type": "code",
   "execution_count": null,
   "metadata": {},
   "outputs": [],
   "source": [
    "#map and filtered can be done by the help of for loop by iterating \n",
    "#using List compreshion\n",
    "nums = [0, 1, 2, 3, 4, 5] \n",
    "mapped = (x * x for x in nums) \n",
    "filtered = (x for x in nums if x % 2 == 1) \n",
    "print(list(mapped)) \n",
    "print(list(filtered))\n"
   ]
  },
  {
   "cell_type": "code",
   "execution_count": 10,
   "metadata": {},
   "outputs": [
    {
     "name": "stdout",
     "output_type": "stream",
     "text": [
      "[True, False, True, False, True, False]\n"
     ]
    }
   ],
   "source": [
    "nums = [0, 1, 2, 3, 4, 5] \n",
    "filtered =[x % 2 ==0 for x in nums ]\n",
    "print(filtered)"
   ]
  },
  {
   "cell_type": "code",
   "execution_count": 108,
   "metadata": {},
   "outputs": [
    {
     "name": "stdout",
     "output_type": "stream",
     "text": [
      "[2, 4, 6, 8, 0, 20, 30, 40]\n"
     ]
    }
   ],
   "source": [
    "##Boolean\n",
    "# using filter() function\n",
    "##Finding out the even numbers from a list\n",
    "nums = [1, 2, 3, 4, 5, 6, 7, 8, 9, 0,20,30,40] \n",
    "evens = filter(lambda x: True if (x % 2 == 0) \n",
    "                              else False, nums) \n",
    "print(list(evens)) "
   ]
  },
  {
   "cell_type": "code",
   "execution_count": 112,
   "metadata": {},
   "outputs": [
    {
     "data": {
      "text/plain": [
       "[2, 4, 6, 8, 0, 20, 30, 40]"
      ]
     },
     "execution_count": 112,
     "metadata": {},
     "output_type": "execute_result"
    }
   ],
   "source": [
    "#Finding out the even numbers from a list\n",
    "list(filter(lambda x: (x % 2 == 0),nums))"
   ]
  },
  {
   "cell_type": "markdown",
   "metadata": {},
   "source": [
    "Pros and Cons of lambda functions :\n",
    "Pros of lambda functions:\n",
    "\n",
    "Being anonymous, lambda functions can be easily passed without being assigned to a variable.\n",
    "Lambda functions are inline functions and thus execute comparatively faster.\n",
    "Many times lambda functions make code much more readable by avoiding the logical jumps caused by function calls. For example, read the following blocks of code.\n"
   ]
  },
  {
   "cell_type": "code",
   "execution_count": null,
   "metadata": {},
   "outputs": [],
   "source": [
    "##Cons on lambda functions:"
   ]
  },
  {
   "cell_type": "markdown",
   "metadata": {},
   "source": [
    "#Lambda functions can have only one expression.\n",
    "#Lambda functions cannot have a docstring.\n",
    "#Many times lambda functions make code difficult to read"
   ]
  },
  {
   "cell_type": "code",
   "execution_count": 4,
   "metadata": {},
   "outputs": [
    {
     "name": "stdout",
     "output_type": "stream",
     "text": [
      "[0, -1, 1, -2, 2]\n"
     ]
    }
   ],
   "source": [
    "#Lambda ,sort and absoulte\n",
    "nums = [-2, -1, 0, 1, 2]\n",
    "sort = sorted(nums, key=lambda x: abs(x))\n",
    "print(sort)"
   ]
  },
  {
   "cell_type": "code",
   "execution_count": 5,
   "metadata": {},
   "outputs": [],
   "source": [
    "#Another way to achive the same\n",
    "sort = sorted(nums, key=abs)"
   ]
  },
  {
   "cell_type": "code",
   "execution_count": 14,
   "metadata": {},
   "outputs": [
    {
     "name": "stdout",
     "output_type": "stream",
     "text": [
      "[0, 1, 1, 2, 3, 5, 8, 13, 21, 34]\n"
     ]
    }
   ],
   "source": [
    "#Python | Find fibonacci series upto n using lambda\n",
    "#The Fibonacci numbers are the numbers in the following integer sequence.\n",
    "#0, 1, 1, 2, 3, 5, 8, 13, 21, 34, 55, 89, 144, …\n",
    "from functools import reduce\n",
    "fib = lambda n: reduce(lambda x, _: x+[x[-1]+x[-2]], range(n-2), [0, 1]) \n",
    "  \n",
    "print(fib(10)) "
   ]
  },
  {
   "cell_type": "raw",
   "metadata": {},
   "source": [
    "\"\"\"_ has 5 main conventional uses in Python:\n",
    "\n",
    "To hold the result of the last executed expression(/statement) in an interactive interpreter session. This precedent was set by the standard CPython interpreter, and other interpreters have followed suit\n",
    "As a general purpose \"throwaway\" variable name to indicate that part of a function result is being deliberately ignored (Conceptually, it is being discarded.), as in code like: label, has_label, _ = text.partition(':').\n",
    "As part of a function definition (using either def or lambda), where the signature is fixed (e.g. by a callback or parent class API), but this particular function implementation doesn't need all of the parameters, as in code like: callback = lambda _: True\n",
    "The python linter recognizes the underscore as a purposefully unused variable (both use cases above). For example year,month,day = date() will raise a lint warning if the day variable is not used later on in the code, the fix if the day is truly not needed is to write year,month,_ = date(). Same with lambda functions, lambda arg: 1.0 is creating a function requiring one argument but not using it, that will be caught by lint, the fix is to write lambda _: 1.0. An unused variable is often hiding a bug/typo (set day but used dya the next line).\"\"\""
   ]
  },
  {
   "cell_type": "raw",
   "metadata": {},
   "source": [
    "#Code #2 : By using lambda and map function\n",
    "\n",
    "def fibonacci(count): \n",
    "    fib_list = [0, 1] \n",
    "    any(map(lambda _: fib_list.append(sum(fib_list[-2:])), range(2, count))) \n",
    "    return fib_list[:count] \n",
    "print(fibonacci(10))"
   ]
  },
  {
   "cell_type": "code",
   "execution_count": 26,
   "metadata": {},
   "outputs": [
    {
     "ename": "SyntaxError",
     "evalue": "invalid syntax (<ipython-input-26-65d82df9c728>, line 11)",
     "output_type": "error",
     "traceback": [
      "\u001b[1;36m  File \u001b[1;32m\"<ipython-input-26-65d82df9c728>\"\u001b[1;36m, line \u001b[1;32m11\u001b[0m\n\u001b[1;33m    result = list(map(lambda x: 2**x, range(input)))\u001b[0m\n\u001b[1;37m         ^\u001b[0m\n\u001b[1;31mSyntaxError\u001b[0m\u001b[1;31m:\u001b[0m invalid syntax\n"
     ]
    }
   ],
   "source": [
    "#Print powers using Anonymous Function in Python\n",
    "\n",
    "#Input : ('The total terms is:', 10)\n",
    "\n",
    "#Output :\n",
    "#('2 raised to power', 0, 'is', 1)\n",
    "#('2 raised to power', 1, 'is', 2)\n",
    "\n",
    "input=(input(\"The total  the term is:\")\n",
    "# use anonymous function \n",
    "       \n",
    "result = list(map(lambda x: 2**x, range(input))) \n",
    "  \n",
    "# display the result \n",
    "print(\"The total terms is:\", input) \n",
    "for i in range(input): \n",
    "   print(\"2 raised to power\", i, \"is\", input[i])\n"
   ]
  },
  {
   "cell_type": "code",
   "execution_count": 27,
   "metadata": {},
   "outputs": [
    {
     "data": {
      "text/plain": [
       "[0, 4, 16, 36, 64]"
      ]
     },
     "execution_count": 27,
     "metadata": {},
     "output_type": "execute_result"
    }
   ],
   "source": [
    "#Difference between List comprehension and Lambda in Python\n",
    "#List = [expression(i) for i in another_list if filter(i)]\n",
    "#Odd number to print\n",
    "[x*x for x in range(0,10) if x %2 ==0]"
   ]
  },
  {
   "cell_type": "code",
   "execution_count": 28,
   "metadata": {},
   "outputs": [],
   "source": [
    "import pandas as pd\n",
    "df=pd.read_csv('train.csv')"
   ]
  },
  {
   "cell_type": "code",
   "execution_count": 34,
   "metadata": {},
   "outputs": [],
   "source": [
    "\n",
    "d1=[x*x for x in df['PassengerId'] if x %2 ==0]"
   ]
  },
  {
   "cell_type": "code",
   "execution_count": 36,
   "metadata": {},
   "outputs": [
    {
     "data": {
      "text/plain": [
       "[4,\n",
       " 16,\n",
       " 36,\n",
       " 64,\n",
       " 100,\n",
       " 144,\n",
       " 196,\n",
       " 256,\n",
       " 324,\n",
       " 400,\n",
       " 484,\n",
       " 576,\n",
       " 676,\n",
       " 784,\n",
       " 900,\n",
       " 1024,\n",
       " 1156,\n",
       " 1296,\n",
       " 1444,\n",
       " 1600,\n",
       " 1764,\n",
       " 1936,\n",
       " 2116,\n",
       " 2304,\n",
       " 2500,\n",
       " 2704,\n",
       " 2916,\n",
       " 3136,\n",
       " 3364,\n",
       " 3600,\n",
       " 3844,\n",
       " 4096,\n",
       " 4356,\n",
       " 4624,\n",
       " 4900,\n",
       " 5184,\n",
       " 5476,\n",
       " 5776,\n",
       " 6084,\n",
       " 6400,\n",
       " 6724,\n",
       " 7056,\n",
       " 7396,\n",
       " 7744,\n",
       " 8100,\n",
       " 8464,\n",
       " 8836,\n",
       " 9216,\n",
       " 9604,\n",
       " 10000,\n",
       " 10404,\n",
       " 10816,\n",
       " 11236,\n",
       " 11664,\n",
       " 12100,\n",
       " 12544,\n",
       " 12996,\n",
       " 13456,\n",
       " 13924,\n",
       " 14400,\n",
       " 14884,\n",
       " 15376,\n",
       " 15876,\n",
       " 16384,\n",
       " 16900,\n",
       " 17424,\n",
       " 17956,\n",
       " 18496,\n",
       " 19044,\n",
       " 19600,\n",
       " 20164,\n",
       " 20736,\n",
       " 21316,\n",
       " 21904,\n",
       " 22500,\n",
       " 23104,\n",
       " 23716,\n",
       " 24336,\n",
       " 24964,\n",
       " 25600,\n",
       " 26244,\n",
       " 26896,\n",
       " 27556,\n",
       " 28224,\n",
       " 28900,\n",
       " 29584,\n",
       " 30276,\n",
       " 30976,\n",
       " 31684,\n",
       " 32400,\n",
       " 33124,\n",
       " 33856,\n",
       " 34596,\n",
       " 35344,\n",
       " 36100,\n",
       " 36864,\n",
       " 37636,\n",
       " 38416,\n",
       " 39204,\n",
       " 40000,\n",
       " 40804,\n",
       " 41616,\n",
       " 42436,\n",
       " 43264,\n",
       " 44100,\n",
       " 44944,\n",
       " 45796,\n",
       " 46656,\n",
       " 47524,\n",
       " 48400,\n",
       " 49284,\n",
       " 50176,\n",
       " 51076,\n",
       " 51984,\n",
       " 52900,\n",
       " 53824,\n",
       " 54756,\n",
       " 55696,\n",
       " 56644,\n",
       " 57600,\n",
       " 58564,\n",
       " 59536,\n",
       " 60516,\n",
       " 61504,\n",
       " 62500,\n",
       " 63504,\n",
       " 64516,\n",
       " 65536,\n",
       " 66564,\n",
       " 67600,\n",
       " 68644,\n",
       " 69696,\n",
       " 70756,\n",
       " 71824,\n",
       " 72900,\n",
       " 73984,\n",
       " 75076,\n",
       " 76176,\n",
       " 77284,\n",
       " 78400,\n",
       " 79524,\n",
       " 80656,\n",
       " 81796,\n",
       " 82944,\n",
       " 84100,\n",
       " 85264,\n",
       " 86436,\n",
       " 87616,\n",
       " 88804,\n",
       " 90000,\n",
       " 91204,\n",
       " 92416,\n",
       " 93636,\n",
       " 94864,\n",
       " 96100,\n",
       " 97344,\n",
       " 98596,\n",
       " 99856,\n",
       " 101124,\n",
       " 102400,\n",
       " 103684,\n",
       " 104976,\n",
       " 106276,\n",
       " 107584,\n",
       " 108900,\n",
       " 110224,\n",
       " 111556,\n",
       " 112896,\n",
       " 114244,\n",
       " 115600,\n",
       " 116964,\n",
       " 118336,\n",
       " 119716,\n",
       " 121104,\n",
       " 122500,\n",
       " 123904,\n",
       " 125316,\n",
       " 126736,\n",
       " 128164,\n",
       " 129600,\n",
       " 131044,\n",
       " 132496,\n",
       " 133956,\n",
       " 135424,\n",
       " 136900,\n",
       " 138384,\n",
       " 139876,\n",
       " 141376,\n",
       " 142884,\n",
       " 144400,\n",
       " 145924,\n",
       " 147456,\n",
       " 148996,\n",
       " 150544,\n",
       " 152100,\n",
       " 153664,\n",
       " 155236,\n",
       " 156816,\n",
       " 158404,\n",
       " 160000,\n",
       " 161604,\n",
       " 163216,\n",
       " 164836,\n",
       " 166464,\n",
       " 168100,\n",
       " 169744,\n",
       " 171396,\n",
       " 173056,\n",
       " 174724,\n",
       " 176400,\n",
       " 178084,\n",
       " 179776,\n",
       " 181476,\n",
       " 183184,\n",
       " 184900,\n",
       " 186624,\n",
       " 188356,\n",
       " 190096,\n",
       " 191844,\n",
       " 193600,\n",
       " 195364,\n",
       " 197136,\n",
       " 198916,\n",
       " 200704,\n",
       " 202500,\n",
       " 204304,\n",
       " 206116,\n",
       " 207936,\n",
       " 209764,\n",
       " 211600,\n",
       " 213444,\n",
       " 215296,\n",
       " 217156,\n",
       " 219024,\n",
       " 220900,\n",
       " 222784,\n",
       " 224676,\n",
       " 226576,\n",
       " 228484,\n",
       " 230400,\n",
       " 232324,\n",
       " 234256,\n",
       " 236196,\n",
       " 238144,\n",
       " 240100,\n",
       " 242064,\n",
       " 244036,\n",
       " 246016,\n",
       " 248004,\n",
       " 250000,\n",
       " 252004,\n",
       " 254016,\n",
       " 256036,\n",
       " 258064,\n",
       " 260100,\n",
       " 262144,\n",
       " 264196,\n",
       " 266256,\n",
       " 268324,\n",
       " 270400,\n",
       " 272484,\n",
       " 274576,\n",
       " 276676,\n",
       " 278784,\n",
       " 280900,\n",
       " 283024,\n",
       " 285156,\n",
       " 287296,\n",
       " 289444,\n",
       " 291600,\n",
       " 293764,\n",
       " 295936,\n",
       " 298116,\n",
       " 300304,\n",
       " 302500,\n",
       " 304704,\n",
       " 306916,\n",
       " 309136,\n",
       " 311364,\n",
       " 313600,\n",
       " 315844,\n",
       " 318096,\n",
       " 320356,\n",
       " 322624,\n",
       " 324900,\n",
       " 327184,\n",
       " 329476,\n",
       " 331776,\n",
       " 334084,\n",
       " 336400,\n",
       " 338724,\n",
       " 341056,\n",
       " 343396,\n",
       " 345744,\n",
       " 348100,\n",
       " 350464,\n",
       " 352836,\n",
       " 355216,\n",
       " 357604,\n",
       " 360000,\n",
       " 362404,\n",
       " 364816,\n",
       " 367236,\n",
       " 369664,\n",
       " 372100,\n",
       " 374544,\n",
       " 376996,\n",
       " 379456,\n",
       " 381924,\n",
       " 384400,\n",
       " 386884,\n",
       " 389376,\n",
       " 391876,\n",
       " 394384,\n",
       " 396900,\n",
       " 399424,\n",
       " 401956,\n",
       " 404496,\n",
       " 407044,\n",
       " 409600,\n",
       " 412164,\n",
       " 414736,\n",
       " 417316,\n",
       " 419904,\n",
       " 422500,\n",
       " 425104,\n",
       " 427716,\n",
       " 430336,\n",
       " 432964,\n",
       " 435600,\n",
       " 438244,\n",
       " 440896,\n",
       " 443556,\n",
       " 446224,\n",
       " 448900,\n",
       " 451584,\n",
       " 454276,\n",
       " 456976,\n",
       " 459684,\n",
       " 462400,\n",
       " 465124,\n",
       " 467856,\n",
       " 470596,\n",
       " 473344,\n",
       " 476100,\n",
       " 478864,\n",
       " 481636,\n",
       " 484416,\n",
       " 487204,\n",
       " 490000,\n",
       " 492804,\n",
       " 495616,\n",
       " 498436,\n",
       " 501264,\n",
       " 504100,\n",
       " 506944,\n",
       " 509796,\n",
       " 512656,\n",
       " 515524,\n",
       " 518400,\n",
       " 521284,\n",
       " 524176,\n",
       " 527076,\n",
       " 529984,\n",
       " 532900,\n",
       " 535824,\n",
       " 538756,\n",
       " 541696,\n",
       " 544644,\n",
       " 547600,\n",
       " 550564,\n",
       " 553536,\n",
       " 556516,\n",
       " 559504,\n",
       " 562500,\n",
       " 565504,\n",
       " 568516,\n",
       " 571536,\n",
       " 574564,\n",
       " 577600,\n",
       " 580644,\n",
       " 583696,\n",
       " 586756,\n",
       " 589824,\n",
       " 592900,\n",
       " 595984,\n",
       " 599076,\n",
       " 602176,\n",
       " 605284,\n",
       " 608400,\n",
       " 611524,\n",
       " 614656,\n",
       " 617796,\n",
       " 620944,\n",
       " 624100,\n",
       " 627264,\n",
       " 630436,\n",
       " 633616,\n",
       " 636804,\n",
       " 640000,\n",
       " 643204,\n",
       " 646416,\n",
       " 649636,\n",
       " 652864,\n",
       " 656100,\n",
       " 659344,\n",
       " 662596,\n",
       " 665856,\n",
       " 669124,\n",
       " 672400,\n",
       " 675684,\n",
       " 678976,\n",
       " 682276,\n",
       " 685584,\n",
       " 688900,\n",
       " 692224,\n",
       " 695556,\n",
       " 698896,\n",
       " 702244,\n",
       " 705600,\n",
       " 708964,\n",
       " 712336,\n",
       " 715716,\n",
       " 719104,\n",
       " 722500,\n",
       " 725904,\n",
       " 729316,\n",
       " 732736,\n",
       " 736164,\n",
       " 739600,\n",
       " 743044,\n",
       " 746496,\n",
       " 749956,\n",
       " 753424,\n",
       " 756900,\n",
       " 760384,\n",
       " 763876,\n",
       " 767376,\n",
       " 770884,\n",
       " 774400,\n",
       " 777924,\n",
       " 781456,\n",
       " 784996,\n",
       " 788544,\n",
       " 792100]"
      ]
     },
     "execution_count": 36,
     "metadata": {},
     "output_type": "execute_result"
    }
   ],
   "source": [
    "d1"
   ]
  },
  {
   "cell_type": "code",
   "execution_count": null,
   "metadata": {},
   "outputs": [],
   "source": []
  }
 ],
 "metadata": {
  "kernelspec": {
   "display_name": "Python 3",
   "language": "python",
   "name": "python3"
  },
  "language_info": {
   "codemirror_mode": {
    "name": "ipython",
    "version": 3
   },
   "file_extension": ".py",
   "mimetype": "text/x-python",
   "name": "python",
   "nbconvert_exporter": "python",
   "pygments_lexer": "ipython3",
   "version": "3.7.6"
  }
 },
 "nbformat": 4,
 "nbformat_minor": 4
}
